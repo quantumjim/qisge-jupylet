{
 "cells": [
  {
   "cell_type": "markdown",
   "metadata": {},
   "source": [
    "# Your First Quantum Game"
   ]
  },
  {
   "cell_type": "markdown",
   "metadata": {},
   "source": [
    "If you've already read some of this textbook, you should know at least a few quantum gates. If you are wondering what to do with that knowledge, perhaps making a game can be the answer. Making simple games can be a fun way to try out new programming knowledge.\n",
    "\n",
    "If we are going to make a game, we'll need a game engine. Here we'll introduce a simple game engine that can run here in the Jupyter notebooks of this textbook. With this we'll make make a very simple game based on single qubit gates.\n",
    "\n",
    "First, we import the game engine."
   ]
  },
  {
   "cell_type": "code",
   "execution_count": 1,
   "metadata": {},
   "outputs": [],
   "source": [
    "import qisge"
   ]
  },
  {
   "cell_type": "markdown",
   "metadata": {},
   "source": [
    "## Step 1: A strangely mobile tree\n",
    "\n",
    "In this folder there are some images that can be used for games. Such as this one of a tree.\n",
    "\n",
    "<img src=\"terrain-tree.png\" width=128/>\n",
    "\n",
    "To use these images in our game we first tell the game engine about them by defining an `ImageList` as follows."
   ]
  },
  {
   "cell_type": "code",
   "execution_count": 2,
   "metadata": {},
   "outputs": [],
   "source": [
    "images = qisge.ImageList([\n",
    "    'terrain-water.png',\n",
    "    'terrain-red-flower.png',\n",
    "    'terrain-grass.png',\n",
    "    'terrain-path.png',\n",
    "    'terrain-grass.png',\n",
    "    'terrain-purple-flower.png',\n",
    "    'terrain-tree.png',\n",
    "    'qubit.png'\n",
    "    ])"
   ]
  },
  {
   "cell_type": "markdown",
   "metadata": {},
   "source": [
    "Now we are able to refer to these images by index according to where they are in this list. This starts with the index 0 for 'terrain-water.png', then index 1 for 'terrain-red-flower.png' and so on. Our tree is at the position with index 6.\n",
    "\n",
    "You might have noticed that the grass image is listed twice here. That's just because it will be easier for us to access it using both index 2 and index 4. Other, less lazy methods are also possible!\n",
    "\n",
    "To display an image of a tree we set up a sprite object using the index for the image we want."
   ]
  },
  {
   "cell_type": "code",
   "execution_count": 3,
   "metadata": {},
   "outputs": [],
   "source": [
    "tree = qisge.Sprite(6)"
   ]
  },
  {
   "cell_type": "markdown",
   "metadata": {},
   "source": [
    "Before we can display the image by running the game, there is one last ingredient. We need to define a `next_frame` function which defines how the things on screen change when each new frame is drawn.\n",
    "\n",
    "Here's an example where the position of the sprite (defined by the attributes `x` and `y`) is changed based on the user input."
   ]
  },
  {
   "cell_type": "code",
   "execution_count": 4,
   "metadata": {},
   "outputs": [],
   "source": [
    "def next_frame(userinput):\n",
    "    \n",
    "    if 0 in userinput['key_presses']:\n",
    "        tree.y += 0.5\n",
    "    if 1 in userinput['key_presses']:\n",
    "        tree.x += 0.5\n",
    "    if 2 in userinput['key_presses']:\n",
    "        tree.y -= 0.5\n",
    "    if 3 in userinput['key_presses']:\n",
    "        tree.x -= 0.5"
   ]
  },
  {
   "cell_type": "markdown",
   "metadata": {},
   "source": [
    "Here `userinput['key_presses']` is something that the game provides every time the `next_frame` function is called. It contains a list of the buttons that the user is pressing during that frame, referred to by numbers as follows.\n",
    "* 0: up;\n",
    "* 1: right;\n",
    "* 2: down;\n",
    "* 3: left;\n",
    "* 4: space;\n",
    "* 5: A;\n",
    "* 6: S;\n",
    "* 7: D.\n",
    "\n",
    "Now we have enough to define a game, we can run it. You should see the tree at the bottom left, and be able to move it around with the arrow keys."
   ]
  },
  {
   "cell_type": "code",
   "execution_count": 5,
   "metadata": {
    "scrolled": true
   },
   "outputs": [
    {
     "data": {
      "application/vnd.jupyter.widget-view+json": {
       "model_id": "4723f613a66341b5b6c527da6ecc0ac6",
       "version_major": 2,
       "version_minor": 0
      },
      "text/plain": [
       "Image(value=b'\\xff\\xd8\\xff\\xe0\\x00\\x10JFIF\\x00\\x01\\x01\\x00\\x00\\x01\\x00\\x01\\x00\\x00\\xff\\xdb\\x00C\\x00\\x08\\x06\\x0…"
      ]
     },
     "metadata": {},
     "output_type": "display_data"
    }
   ],
   "source": [
    "@qisge._app.run_me_every(1/qisge.FPS)\n",
    "def game_loop(ct, dt):\n",
    "    next_frame(qisge.update())\n",
    "    \n",
    "qisge._app.run()"
   ]
  },
  {
   "cell_type": "markdown",
   "metadata": {},
   "source": [
    "The size of the tree here is the default size that sprites are rendered in this game engine, which we refer to as a cell. The screen is 28 cells wide and 16 cells high.\n",
    "\n",
    "## Step 2: Some flowers in a qubit\n",
    "\n",
    "In what follows, we'll only be using the 10x10 section in the middle. So for the rest we'll need a background image. We'll use 'qubit.png' (index 7 in our image list) and scale it up to 28 cells wide."
   ]
  },
  {
   "cell_type": "code",
   "execution_count": 6,
   "metadata": {},
   "outputs": [],
   "source": [
    "background = qisge.Sprite(7,size=28)"
   ]
  },
  {
   "cell_type": "markdown",
   "metadata": {},
   "source": [
    "Now we will create a 100 sprites, one for each cell in the central 10x10 region. These are all initialized with the red and yellow flowers image (index 1), and with different positions."
   ]
  },
  {
   "cell_type": "code",
   "execution_count": 7,
   "metadata": {},
   "outputs": [],
   "source": [
    "sprite = {} # sprites for each tile\n",
    "# loop over a 10x10 square of tiles in the center (remembering screen is 28x16)\n",
    "for dx in range(9,19):\n",
    "    for dy in range(3,13):\n",
    "        sprite[dx,dy] = qisge.Sprite(1,x=dx,y=dy)"
   ]
  },
  {
   "cell_type": "markdown",
   "metadata": {},
   "source": [
    "We are going to generate a park that has more than just one type of flower. We are going to use all six terrain images available to us."
   ]
  },
  {
   "cell_type": "code",
   "execution_count": 8,
   "metadata": {},
   "outputs": [],
   "source": [
    "terrain_types = 6"
   ]
  },
  {
   "cell_type": "markdown",
   "metadata": {},
   "source": [
    "To determine what type of terrain belongs at each point we define a function which returns an image index for each position `(x,y)`.\n",
    "\n",
    "As an initial example, here we just use the sum of `x` and `y` to determine the image, and keep cycling through the 6 possibilities."
   ]
  },
  {
   "cell_type": "code",
   "execution_count": 9,
   "metadata": {},
   "outputs": [],
   "source": [
    "def get_image_id(x,y):\n",
    "    \n",
    "    return (x+y)%terrain_types"
   ]
  },
  {
   "cell_type": "markdown",
   "metadata": {},
   "source": [
    "Using this we can now change the images based on their position."
   ]
  },
  {
   "cell_type": "code",
   "execution_count": 10,
   "metadata": {},
   "outputs": [],
   "source": [
    "for dx in range(9,19):\n",
    "    for dy in range(3,13):\n",
    "        sprite[dx,dy].image_id = get_image_id(dx,dy)"
   ]
  },
  {
   "cell_type": "markdown",
   "metadata": {},
   "source": [
    "## Step 3: A walk in the park"
   ]
  },
  {
   "cell_type": "markdown",
   "metadata": {},
   "source": [
    "We are now going to make it so we can move through the park. For that we won't change the position of the sprites on screen. Instead we will change which position in the park they represent. For this we need to define a position for the walker."
   ]
  },
  {
   "cell_type": "code",
   "execution_count": 11,
   "metadata": {},
   "outputs": [],
   "source": [
    "pos_x = 0\n",
    "pos_y = 0"
   ]
  },
  {
   "cell_type": "markdown",
   "metadata": {},
   "source": [
    "Now we will make it so the sprite at `(dx,dy)` displays the terrain at position `(pos_x+dx,pos_y+dy)`. We'll also change the `next_frame` function so that the arrow keys change the position of the walker. Then, when the walker position changes, we redraw the sprites."
   ]
  },
  {
   "cell_type": "code",
   "execution_count": 12,
   "metadata": {},
   "outputs": [],
   "source": [
    "def next_frame(input):\n",
    "        \n",
    "    global pos_x,pos_y\n",
    "        \n",
    "    pressed = False\n",
    "    if 0 in input['key_presses']:\n",
    "        pos_y += 1\n",
    "        pressed = True\n",
    "    if 1 in input['key_presses']:\n",
    "        pos_x += 1\n",
    "        pressed = True\n",
    "    if 2 in input['key_presses']:\n",
    "        pos_y -= 1\n",
    "        pressed = True\n",
    "    if 3 in input['key_presses']:\n",
    "        pos_x -= 1\n",
    "        pressed = True\n",
    "    if 5 in input['key_presses']:\n",
    "        pressed = True\n",
    "                \n",
    "    if pressed:\n",
    "        for dx in range(9,19):\n",
    "            for dy in range(3,13):\n",
    "                sprite[dx,dy].image_id = get_image_id(pos_x+dx,pos_y+dy)"
   ]
  },
  {
   "cell_type": "markdown",
   "metadata": {},
   "source": [
    "## Step 3: Making a park from a qubit\n",
    "\n",
    "Now let's make a more interesting landscape to walk around by changing the `get_image_id` function. And since this is a textbook on quantum computing, let's use a qubit! By experimenting with different single qubit quantum circuits in the `get_image_id` function, we can build up some experience of how qubits work and how they can be put to use.\n",
    "\n",
    "First we need to import some tools from qiskit."
   ]
  },
  {
   "cell_type": "code",
   "execution_count": 13,
   "metadata": {},
   "outputs": [],
   "source": [
    "from qiskit import QuantumCircuit\n",
    "from qiskit.quantum_info import Statevector\n",
    "\n",
    "import numpy as np"
   ]
  },
  {
   "cell_type": "markdown",
   "metadata": {},
   "source": [
    "Here's a single qubit circuit with just a simple rotation around the y axis."
   ]
  },
  {
   "cell_type": "code",
   "execution_count": 14,
   "metadata": {},
   "outputs": [
    {
     "data": {
      "text/plain": [
       "<qiskit.circuit.instructionset.InstructionSet at 0x7f9509bf37f0>"
      ]
     },
     "execution_count": 14,
     "metadata": {},
     "output_type": "execute_result"
    }
   ],
   "source": [
    "theta = np.pi/2\n",
    "\n",
    "qc = QuantumCircuit(1)\n",
    "qc.ry(theta,0)"
   ]
  },
  {
   "cell_type": "markdown",
   "metadata": {},
   "source": [
    "We can use Qiskit to determine the statevector that results from this rotation, and determine the probability that we'd get the outcome `0` from a measurement."
   ]
  },
  {
   "cell_type": "code",
   "execution_count": 15,
   "metadata": {},
   "outputs": [
    {
     "data": {
      "text/plain": [
       "0.4999999999999999"
      ]
     },
     "execution_count": 15,
     "metadata": {},
     "output_type": "execute_result"
    }
   ],
   "source": [
    "state = Statevector.from_instruction(qc)\n",
    "probs = state.probabilities()\n",
    "probs[1]"
   ]
  },
  {
   "cell_type": "markdown",
   "metadata": {},
   "source": [
    "As you can see, for this rotation and this angle we get a probability of 0.5. If you try other angles you'll find what you might expect from the Bloch sphere: the probability is 1 for an angle of 0, then decreases to 0 as the angle goes to $\\pi$, and then cyles back to 1 for the angle of $2\\pi$ and so on.\n",
    "\n",
    "With this we can use `ry` for another way of implementing our park. We can use the value of $x+y$ to parameterize the angle of the rotation. Just like before, this will lead to a park cycling through different types of terrain."
   ]
  },
  {
   "cell_type": "code",
   "execution_count": 16,
   "metadata": {},
   "outputs": [],
   "source": [
    "def get_image_id(x,y):\n",
    "    \n",
    "    theta = np.pi*(x+y)/(terrain_types)\n",
    "    \n",
    "    qc = QuantumCircuit(1)\n",
    "    qc.ry(theta,0)\n",
    "    \n",
    "    state = Statevector.from_instruction(qc)\n",
    "    probs = state.probabilities_dict()\n",
    "    \n",
    "    return int(round(probs['0']*(terrain_types-1)))"
   ]
  },
  {
   "cell_type": "markdown",
   "metadata": {},
   "source": [
    "Now scroll back up to the game screen to see this new, qubit-powered park. Note that you'll need to start trying to move around (or press 'A'), before it will redraw the sprites.\n",
    "\n",
    "As you might notice, movement is a bit more sluggish now. This is a consequence of trying to do 100 single qubit simulations every frame! Certainly not a recommended way of trying to use quantum computers in games, though it is fine for this simple tutorial.\n",
    "\n",
    "## Step 4: Experiment!"
   ]
  },
  {
   "cell_type": "markdown",
   "metadata": {},
   "source": [
    "Now you have everything you need to start experimenting. You can use different single qubit rotations and different rotation angles with different dependencies on the position to generate different kinds of terrain.\n",
    "\n",
    "Here's an example for you to look at. In order for each run to create something different, we'll use some randomly generated parameters."
   ]
  },
  {
   "cell_type": "code",
   "execution_count": 17,
   "metadata": {},
   "outputs": [],
   "source": [
    "import random\n",
    "s = [0.5*random.random() for _ in range(6)]"
   ]
  },
  {
   "cell_type": "markdown",
   "metadata": {},
   "source": [
    "Using these, as well as the coordinates, we can define different angles for x, y and z rotations on our qubit and generate a park full of paths, lakes and woodland."
   ]
  },
  {
   "cell_type": "code",
   "execution_count": 18,
   "metadata": {},
   "outputs": [],
   "source": [
    "def get_image_id(x,y):\n",
    "\n",
    "    # set up a single qubit circuit\n",
    "    qc = QuantumCircuit(1)\n",
    "\n",
    "    # define some (x,y) dependent angles\n",
    "    tx = (s[0]*x + s[1]*y)*np.pi/7\n",
    "    ty = (s[2]*x - s[3]*y)*np.pi/7\n",
    "    tz = (s[4]*(x+y) + s[5]*(x-y))*np.pi/7\n",
    "\n",
    "    # add rotations by these angles to the circuit\n",
    "    qc.rx(tx,0)\n",
    "    qc.rz(tz,0)\n",
    "    qc.ry(ty,0)\n",
    "\n",
    "    # simulate it to get the probability of a 0 outcome\n",
    "    state = Statevector.from_instruction(qc)\n",
    "    probs = state.probabilities_dict()\n",
    "        \n",
    "    # scale and round the result to get an image id\n",
    "    image_id = int(round(probs['0']*(terrain_types-1)))\n",
    "\n",
    "    return image_id"
   ]
  },
  {
   "cell_type": "markdown",
   "metadata": {},
   "source": [
    "Why not have a go yourself?"
   ]
  },
  {
   "cell_type": "code",
   "execution_count": null,
   "metadata": {},
   "outputs": [],
   "source": []
  }
 ],
 "metadata": {
  "kernelspec": {
   "display_name": "Python 3",
   "language": "python",
   "name": "python3"
  },
  "language_info": {
   "codemirror_mode": {
    "name": "ipython",
    "version": 3
   },
   "file_extension": ".py",
   "mimetype": "text/x-python",
   "name": "python",
   "nbconvert_exporter": "python",
   "pygments_lexer": "ipython3",
   "version": "3.9.1"
  }
 },
 "nbformat": 4,
 "nbformat_minor": 4
}
